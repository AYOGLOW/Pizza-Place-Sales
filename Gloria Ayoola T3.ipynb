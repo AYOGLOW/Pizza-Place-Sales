{
 "cells": [
  {
   "cell_type": "code",
   "execution_count": 1,
   "id": "4217b638-5693-453a-89f1-2afaa083b3ab",
   "metadata": {},
   "outputs": [],
   "source": [
    "import pandas as pd\n",
    "import matplotlib.pyplot as plt\n",
    "import seaborn as sns\n",
    "sns.set()\n",
    "import warnings\n",
    "warnings.filterwarnings(\"ignore\")"
   ]
  },
  {
   "cell_type": "code",
   "execution_count": 2,
   "id": "82baedd2-b493-4747-b2cb-127fcaabae51",
   "metadata": {},
   "outputs": [],
   "source": [
    "#Importing orders table\n",
    "df1= pd.read_csv('orders.csv')"
   ]
  },
  {
   "cell_type": "code",
   "execution_count": 3,
   "id": "494ee53a-351a-4130-843d-824097a6317c",
   "metadata": {},
   "outputs": [
    {
     "name": "stdout",
     "output_type": "stream",
     "text": [
      "<class 'pandas.core.frame.DataFrame'>\n",
      "RangeIndex: 21350 entries, 0 to 21349\n",
      "Data columns (total 3 columns):\n",
      " #   Column    Non-Null Count  Dtype \n",
      "---  ------    --------------  ----- \n",
      " 0   order_id  21350 non-null  int64 \n",
      " 1   date      21350 non-null  object\n",
      " 2   time      21350 non-null  object\n",
      "dtypes: int64(1), object(2)\n",
      "memory usage: 500.5+ KB\n"
     ]
    }
   ],
   "source": [
    "df1.info()"
   ]
  },
  {
   "cell_type": "code",
   "execution_count": 4,
   "id": "976b9989-da06-448f-93ea-77eb06ac168e",
   "metadata": {},
   "outputs": [],
   "source": [
    "#Importing order_details table\n",
    "df2 = pd.read_csv('order_details.csv')"
   ]
  },
  {
   "cell_type": "code",
   "execution_count": 5,
   "id": "37627c05-74a6-412d-a6d9-65db05787e3c",
   "metadata": {},
   "outputs": [
    {
     "name": "stdout",
     "output_type": "stream",
     "text": [
      "<class 'pandas.core.frame.DataFrame'>\n",
      "RangeIndex: 48620 entries, 0 to 48619\n",
      "Data columns (total 4 columns):\n",
      " #   Column            Non-Null Count  Dtype \n",
      "---  ------            --------------  ----- \n",
      " 0   order_details_id  48620 non-null  int64 \n",
      " 1   order_id          48620 non-null  int64 \n",
      " 2   pizza_id          48620 non-null  object\n",
      " 3   quantity          48620 non-null  int64 \n",
      "dtypes: int64(3), object(1)\n",
      "memory usage: 1.5+ MB\n"
     ]
    }
   ],
   "source": [
    "df2.info()"
   ]
  },
  {
   "cell_type": "code",
   "execution_count": 6,
   "id": "42a25fe7-f698-446c-86e8-2f36618d98ef",
   "metadata": {},
   "outputs": [],
   "source": [
    "#Importing pizza table\n",
    "df3 = pd.read_csv('pizzas.csv')"
   ]
  },
  {
   "cell_type": "code",
   "execution_count": 7,
   "id": "23327f3e-7487-4013-8882-85fd6c527b03",
   "metadata": {},
   "outputs": [
    {
     "name": "stdout",
     "output_type": "stream",
     "text": [
      "<class 'pandas.core.frame.DataFrame'>\n",
      "RangeIndex: 96 entries, 0 to 95\n",
      "Data columns (total 4 columns):\n",
      " #   Column         Non-Null Count  Dtype  \n",
      "---  ------         --------------  -----  \n",
      " 0   pizza_id       96 non-null     object \n",
      " 1   pizza_type_id  96 non-null     object \n",
      " 2   size           96 non-null     object \n",
      " 3   price          96 non-null     float64\n",
      "dtypes: float64(1), object(3)\n",
      "memory usage: 3.1+ KB\n"
     ]
    }
   ],
   "source": [
    "df3.info()"
   ]
  },
  {
   "cell_type": "code",
   "execution_count": 8,
   "id": "7b06fb1f-0299-4ca9-a291-c41779e6db3a",
   "metadata": {},
   "outputs": [
    {
     "data": {
      "text/html": [
       "<div>\n",
       "<style scoped>\n",
       "    .dataframe tbody tr th:only-of-type {\n",
       "        vertical-align: middle;\n",
       "    }\n",
       "\n",
       "    .dataframe tbody tr th {\n",
       "        vertical-align: top;\n",
       "    }\n",
       "\n",
       "    .dataframe thead th {\n",
       "        text-align: right;\n",
       "    }\n",
       "</style>\n",
       "<table border=\"1\" class=\"dataframe\">\n",
       "  <thead>\n",
       "    <tr style=\"text-align: right;\">\n",
       "      <th></th>\n",
       "      <th>pizza_id</th>\n",
       "      <th>pizza_type_id</th>\n",
       "      <th>size</th>\n",
       "      <th>price</th>\n",
       "    </tr>\n",
       "  </thead>\n",
       "  <tbody>\n",
       "    <tr>\n",
       "      <th>0</th>\n",
       "      <td>bbq_ckn_s</td>\n",
       "      <td>bbq_ckn</td>\n",
       "      <td>S</td>\n",
       "      <td>12.75</td>\n",
       "    </tr>\n",
       "    <tr>\n",
       "      <th>1</th>\n",
       "      <td>bbq_ckn_m</td>\n",
       "      <td>bbq_ckn</td>\n",
       "      <td>M</td>\n",
       "      <td>16.75</td>\n",
       "    </tr>\n",
       "    <tr>\n",
       "      <th>2</th>\n",
       "      <td>bbq_ckn_l</td>\n",
       "      <td>bbq_ckn</td>\n",
       "      <td>L</td>\n",
       "      <td>20.75</td>\n",
       "    </tr>\n",
       "    <tr>\n",
       "      <th>3</th>\n",
       "      <td>cali_ckn_s</td>\n",
       "      <td>cali_ckn</td>\n",
       "      <td>S</td>\n",
       "      <td>12.75</td>\n",
       "    </tr>\n",
       "    <tr>\n",
       "      <th>4</th>\n",
       "      <td>cali_ckn_m</td>\n",
       "      <td>cali_ckn</td>\n",
       "      <td>M</td>\n",
       "      <td>16.75</td>\n",
       "    </tr>\n",
       "  </tbody>\n",
       "</table>\n",
       "</div>"
      ],
      "text/plain": [
       "     pizza_id pizza_type_id size  price\n",
       "0   bbq_ckn_s       bbq_ckn    S  12.75\n",
       "1   bbq_ckn_m       bbq_ckn    M  16.75\n",
       "2   bbq_ckn_l       bbq_ckn    L  20.75\n",
       "3  cali_ckn_s      cali_ckn    S  12.75\n",
       "4  cali_ckn_m      cali_ckn    M  16.75"
      ]
     },
     "execution_count": 8,
     "metadata": {},
     "output_type": "execute_result"
    }
   ],
   "source": [
    "df3.head()"
   ]
  },
  {
   "cell_type": "code",
   "execution_count": 9,
   "id": "03dc237e-9290-4b38-83cb-aa7c1d7f6c19",
   "metadata": {},
   "outputs": [],
   "source": [
    "#importing pizza_type table\n",
    "df4 = pd.read_csv('pizza_types.csv', encoding=\"latin1\")"
   ]
  },
  {
   "cell_type": "code",
   "execution_count": 10,
   "id": "5c4d7d2b-151e-4374-b363-54243bd62eac",
   "metadata": {},
   "outputs": [
    {
     "name": "stdout",
     "output_type": "stream",
     "text": [
      "<class 'pandas.core.frame.DataFrame'>\n",
      "RangeIndex: 32 entries, 0 to 31\n",
      "Data columns (total 4 columns):\n",
      " #   Column         Non-Null Count  Dtype \n",
      "---  ------         --------------  ----- \n",
      " 0   pizza_type_id  32 non-null     object\n",
      " 1   name           32 non-null     object\n",
      " 2   category       32 non-null     object\n",
      " 3   ingredients    32 non-null     object\n",
      "dtypes: object(4)\n",
      "memory usage: 1.1+ KB\n"
     ]
    }
   ],
   "source": [
    "df4.info()"
   ]
  },
  {
   "cell_type": "code",
   "execution_count": 11,
   "id": "c454cdde-d44d-422d-a9d1-5916f6b3ab44",
   "metadata": {},
   "outputs": [],
   "source": [
    "#Merging orders (df1) and order_details (df2) table\n",
    "df5 = pd.merge(df1,df2, on='order_id', how = 'outer') "
   ]
  },
  {
   "cell_type": "code",
   "execution_count": 12,
   "id": "8eee9cfa-9d78-4702-ac3e-97a2982201d7",
   "metadata": {},
   "outputs": [
    {
     "data": {
      "text/html": [
       "<div>\n",
       "<style scoped>\n",
       "    .dataframe tbody tr th:only-of-type {\n",
       "        vertical-align: middle;\n",
       "    }\n",
       "\n",
       "    .dataframe tbody tr th {\n",
       "        vertical-align: top;\n",
       "    }\n",
       "\n",
       "    .dataframe thead th {\n",
       "        text-align: right;\n",
       "    }\n",
       "</style>\n",
       "<table border=\"1\" class=\"dataframe\">\n",
       "  <thead>\n",
       "    <tr style=\"text-align: right;\">\n",
       "      <th></th>\n",
       "      <th>order_id</th>\n",
       "      <th>date</th>\n",
       "      <th>time</th>\n",
       "      <th>order_details_id</th>\n",
       "      <th>pizza_id</th>\n",
       "      <th>quantity</th>\n",
       "    </tr>\n",
       "  </thead>\n",
       "  <tbody>\n",
       "    <tr>\n",
       "      <th>0</th>\n",
       "      <td>1</td>\n",
       "      <td>2015-01-01</td>\n",
       "      <td>11:38:36</td>\n",
       "      <td>1</td>\n",
       "      <td>hawaiian_m</td>\n",
       "      <td>1</td>\n",
       "    </tr>\n",
       "    <tr>\n",
       "      <th>1</th>\n",
       "      <td>2</td>\n",
       "      <td>2015-01-01</td>\n",
       "      <td>11:57:40</td>\n",
       "      <td>2</td>\n",
       "      <td>classic_dlx_m</td>\n",
       "      <td>1</td>\n",
       "    </tr>\n",
       "    <tr>\n",
       "      <th>2</th>\n",
       "      <td>2</td>\n",
       "      <td>2015-01-01</td>\n",
       "      <td>11:57:40</td>\n",
       "      <td>3</td>\n",
       "      <td>five_cheese_l</td>\n",
       "      <td>1</td>\n",
       "    </tr>\n",
       "    <tr>\n",
       "      <th>3</th>\n",
       "      <td>2</td>\n",
       "      <td>2015-01-01</td>\n",
       "      <td>11:57:40</td>\n",
       "      <td>4</td>\n",
       "      <td>ital_supr_l</td>\n",
       "      <td>1</td>\n",
       "    </tr>\n",
       "    <tr>\n",
       "      <th>4</th>\n",
       "      <td>2</td>\n",
       "      <td>2015-01-01</td>\n",
       "      <td>11:57:40</td>\n",
       "      <td>5</td>\n",
       "      <td>mexicana_m</td>\n",
       "      <td>1</td>\n",
       "    </tr>\n",
       "    <tr>\n",
       "      <th>5</th>\n",
       "      <td>2</td>\n",
       "      <td>2015-01-01</td>\n",
       "      <td>11:57:40</td>\n",
       "      <td>6</td>\n",
       "      <td>thai_ckn_l</td>\n",
       "      <td>1</td>\n",
       "    </tr>\n",
       "    <tr>\n",
       "      <th>6</th>\n",
       "      <td>3</td>\n",
       "      <td>2015-01-01</td>\n",
       "      <td>12:12:28</td>\n",
       "      <td>7</td>\n",
       "      <td>ital_supr_m</td>\n",
       "      <td>1</td>\n",
       "    </tr>\n",
       "    <tr>\n",
       "      <th>7</th>\n",
       "      <td>3</td>\n",
       "      <td>2015-01-01</td>\n",
       "      <td>12:12:28</td>\n",
       "      <td>8</td>\n",
       "      <td>prsc_argla_l</td>\n",
       "      <td>1</td>\n",
       "    </tr>\n",
       "    <tr>\n",
       "      <th>8</th>\n",
       "      <td>4</td>\n",
       "      <td>2015-01-01</td>\n",
       "      <td>12:16:31</td>\n",
       "      <td>9</td>\n",
       "      <td>ital_supr_m</td>\n",
       "      <td>1</td>\n",
       "    </tr>\n",
       "    <tr>\n",
       "      <th>9</th>\n",
       "      <td>5</td>\n",
       "      <td>2015-01-01</td>\n",
       "      <td>12:21:30</td>\n",
       "      <td>10</td>\n",
       "      <td>ital_supr_m</td>\n",
       "      <td>1</td>\n",
       "    </tr>\n",
       "    <tr>\n",
       "      <th>10</th>\n",
       "      <td>6</td>\n",
       "      <td>2015-01-01</td>\n",
       "      <td>12:29:36</td>\n",
       "      <td>11</td>\n",
       "      <td>bbq_ckn_s</td>\n",
       "      <td>1</td>\n",
       "    </tr>\n",
       "    <tr>\n",
       "      <th>11</th>\n",
       "      <td>6</td>\n",
       "      <td>2015-01-01</td>\n",
       "      <td>12:29:36</td>\n",
       "      <td>12</td>\n",
       "      <td>the_greek_s</td>\n",
       "      <td>1</td>\n",
       "    </tr>\n",
       "    <tr>\n",
       "      <th>12</th>\n",
       "      <td>7</td>\n",
       "      <td>2015-01-01</td>\n",
       "      <td>12:50:37</td>\n",
       "      <td>13</td>\n",
       "      <td>spinach_supr_s</td>\n",
       "      <td>1</td>\n",
       "    </tr>\n",
       "    <tr>\n",
       "      <th>13</th>\n",
       "      <td>8</td>\n",
       "      <td>2015-01-01</td>\n",
       "      <td>12:51:37</td>\n",
       "      <td>14</td>\n",
       "      <td>spinach_supr_s</td>\n",
       "      <td>1</td>\n",
       "    </tr>\n",
       "    <tr>\n",
       "      <th>14</th>\n",
       "      <td>9</td>\n",
       "      <td>2015-01-01</td>\n",
       "      <td>12:52:01</td>\n",
       "      <td>15</td>\n",
       "      <td>classic_dlx_s</td>\n",
       "      <td>1</td>\n",
       "    </tr>\n",
       "    <tr>\n",
       "      <th>15</th>\n",
       "      <td>9</td>\n",
       "      <td>2015-01-01</td>\n",
       "      <td>12:52:01</td>\n",
       "      <td>16</td>\n",
       "      <td>green_garden_s</td>\n",
       "      <td>1</td>\n",
       "    </tr>\n",
       "    <tr>\n",
       "      <th>16</th>\n",
       "      <td>9</td>\n",
       "      <td>2015-01-01</td>\n",
       "      <td>12:52:01</td>\n",
       "      <td>17</td>\n",
       "      <td>ital_cpcllo_l</td>\n",
       "      <td>1</td>\n",
       "    </tr>\n",
       "    <tr>\n",
       "      <th>17</th>\n",
       "      <td>9</td>\n",
       "      <td>2015-01-01</td>\n",
       "      <td>12:52:01</td>\n",
       "      <td>18</td>\n",
       "      <td>ital_supr_l</td>\n",
       "      <td>1</td>\n",
       "    </tr>\n",
       "    <tr>\n",
       "      <th>18</th>\n",
       "      <td>9</td>\n",
       "      <td>2015-01-01</td>\n",
       "      <td>12:52:01</td>\n",
       "      <td>19</td>\n",
       "      <td>ital_supr_s</td>\n",
       "      <td>1</td>\n",
       "    </tr>\n",
       "    <tr>\n",
       "      <th>19</th>\n",
       "      <td>9</td>\n",
       "      <td>2015-01-01</td>\n",
       "      <td>12:52:01</td>\n",
       "      <td>20</td>\n",
       "      <td>mexicana_s</td>\n",
       "      <td>1</td>\n",
       "    </tr>\n",
       "  </tbody>\n",
       "</table>\n",
       "</div>"
      ],
      "text/plain": [
       "    order_id        date      time  order_details_id        pizza_id  quantity\n",
       "0          1  2015-01-01  11:38:36                 1      hawaiian_m         1\n",
       "1          2  2015-01-01  11:57:40                 2   classic_dlx_m         1\n",
       "2          2  2015-01-01  11:57:40                 3   five_cheese_l         1\n",
       "3          2  2015-01-01  11:57:40                 4     ital_supr_l         1\n",
       "4          2  2015-01-01  11:57:40                 5      mexicana_m         1\n",
       "5          2  2015-01-01  11:57:40                 6      thai_ckn_l         1\n",
       "6          3  2015-01-01  12:12:28                 7     ital_supr_m         1\n",
       "7          3  2015-01-01  12:12:28                 8    prsc_argla_l         1\n",
       "8          4  2015-01-01  12:16:31                 9     ital_supr_m         1\n",
       "9          5  2015-01-01  12:21:30                10     ital_supr_m         1\n",
       "10         6  2015-01-01  12:29:36                11       bbq_ckn_s         1\n",
       "11         6  2015-01-01  12:29:36                12     the_greek_s         1\n",
       "12         7  2015-01-01  12:50:37                13  spinach_supr_s         1\n",
       "13         8  2015-01-01  12:51:37                14  spinach_supr_s         1\n",
       "14         9  2015-01-01  12:52:01                15   classic_dlx_s         1\n",
       "15         9  2015-01-01  12:52:01                16  green_garden_s         1\n",
       "16         9  2015-01-01  12:52:01                17   ital_cpcllo_l         1\n",
       "17         9  2015-01-01  12:52:01                18     ital_supr_l         1\n",
       "18         9  2015-01-01  12:52:01                19     ital_supr_s         1\n",
       "19         9  2015-01-01  12:52:01                20      mexicana_s         1"
      ]
     },
     "execution_count": 12,
     "metadata": {},
     "output_type": "execute_result"
    }
   ],
   "source": [
    "#merged df1 and df2 tables (df5)\n",
    "df5.head(20)"
   ]
  },
  {
   "cell_type": "code",
   "execution_count": 13,
   "id": "67d3e8e6-e75d-4f62-96f0-dae47f2942d5",
   "metadata": {},
   "outputs": [
    {
     "name": "stdout",
     "output_type": "stream",
     "text": [
      "<class 'pandas.core.frame.DataFrame'>\n",
      "RangeIndex: 48620 entries, 0 to 48619\n",
      "Data columns (total 6 columns):\n",
      " #   Column            Non-Null Count  Dtype \n",
      "---  ------            --------------  ----- \n",
      " 0   order_id          48620 non-null  int64 \n",
      " 1   date              48620 non-null  object\n",
      " 2   time              48620 non-null  object\n",
      " 3   order_details_id  48620 non-null  int64 \n",
      " 4   pizza_id          48620 non-null  object\n",
      " 5   quantity          48620 non-null  int64 \n",
      "dtypes: int64(3), object(3)\n",
      "memory usage: 2.2+ MB\n"
     ]
    }
   ],
   "source": [
    "df5.info()"
   ]
  },
  {
   "cell_type": "code",
   "execution_count": 14,
   "id": "35e680e7-2283-452e-b7c7-361533d48cae",
   "metadata": {},
   "outputs": [],
   "source": [
    "#merging df5 with pizza table on pizza_id\n",
    "df6 = pd.merge(df3,df5, on='pizza_id', how ='outer')"
   ]
  },
  {
   "cell_type": "code",
   "execution_count": 15,
   "id": "25fd1ad0-5584-4e95-b960-e9e6b58df3e6",
   "metadata": {},
   "outputs": [
    {
     "name": "stdout",
     "output_type": "stream",
     "text": [
      "<class 'pandas.core.frame.DataFrame'>\n",
      "RangeIndex: 48625 entries, 0 to 48624\n",
      "Data columns (total 9 columns):\n",
      " #   Column            Non-Null Count  Dtype  \n",
      "---  ------            --------------  -----  \n",
      " 0   pizza_id          48625 non-null  object \n",
      " 1   pizza_type_id     48625 non-null  object \n",
      " 2   size              48625 non-null  object \n",
      " 3   price             48625 non-null  float64\n",
      " 4   order_id          48620 non-null  float64\n",
      " 5   date              48620 non-null  object \n",
      " 6   time              48620 non-null  object \n",
      " 7   order_details_id  48620 non-null  float64\n",
      " 8   quantity          48620 non-null  float64\n",
      "dtypes: float64(4), object(5)\n",
      "memory usage: 3.3+ MB\n"
     ]
    }
   ],
   "source": [
    "#merged df5 and pizza table (df6)\n",
    "df6.info()"
   ]
  },
  {
   "cell_type": "code",
   "execution_count": 16,
   "id": "cee2229d-b3c1-41e0-bcb1-a3ce190440d3",
   "metadata": {},
   "outputs": [
    {
     "data": {
      "text/html": [
       "<div>\n",
       "<style scoped>\n",
       "    .dataframe tbody tr th:only-of-type {\n",
       "        vertical-align: middle;\n",
       "    }\n",
       "\n",
       "    .dataframe tbody tr th {\n",
       "        vertical-align: top;\n",
       "    }\n",
       "\n",
       "    .dataframe thead th {\n",
       "        text-align: right;\n",
       "    }\n",
       "</style>\n",
       "<table border=\"1\" class=\"dataframe\">\n",
       "  <thead>\n",
       "    <tr style=\"text-align: right;\">\n",
       "      <th></th>\n",
       "      <th>pizza_id</th>\n",
       "      <th>pizza_type_id</th>\n",
       "      <th>size</th>\n",
       "      <th>price</th>\n",
       "      <th>order_id</th>\n",
       "      <th>date</th>\n",
       "      <th>time</th>\n",
       "      <th>order_details_id</th>\n",
       "      <th>quantity</th>\n",
       "    </tr>\n",
       "  </thead>\n",
       "  <tbody>\n",
       "    <tr>\n",
       "      <th>0</th>\n",
       "      <td>bbq_ckn_l</td>\n",
       "      <td>bbq_ckn</td>\n",
       "      <td>L</td>\n",
       "      <td>20.75</td>\n",
       "      <td>11.0</td>\n",
       "      <td>2015-01-01</td>\n",
       "      <td>13:02:59</td>\n",
       "      <td>26.0</td>\n",
       "      <td>1.0</td>\n",
       "    </tr>\n",
       "    <tr>\n",
       "      <th>1</th>\n",
       "      <td>bbq_ckn_l</td>\n",
       "      <td>bbq_ckn</td>\n",
       "      <td>L</td>\n",
       "      <td>20.75</td>\n",
       "      <td>17.0</td>\n",
       "      <td>2015-01-01</td>\n",
       "      <td>13:53:00</td>\n",
       "      <td>43.0</td>\n",
       "      <td>1.0</td>\n",
       "    </tr>\n",
       "    <tr>\n",
       "      <th>2</th>\n",
       "      <td>bbq_ckn_l</td>\n",
       "      <td>bbq_ckn</td>\n",
       "      <td>L</td>\n",
       "      <td>20.75</td>\n",
       "      <td>27.0</td>\n",
       "      <td>2015-01-01</td>\n",
       "      <td>15:11:17</td>\n",
       "      <td>71.0</td>\n",
       "      <td>1.0</td>\n",
       "    </tr>\n",
       "    <tr>\n",
       "      <th>3</th>\n",
       "      <td>bbq_ckn_l</td>\n",
       "      <td>bbq_ckn</td>\n",
       "      <td>L</td>\n",
       "      <td>20.75</td>\n",
       "      <td>33.0</td>\n",
       "      <td>2015-01-01</td>\n",
       "      <td>15:54:08</td>\n",
       "      <td>83.0</td>\n",
       "      <td>1.0</td>\n",
       "    </tr>\n",
       "    <tr>\n",
       "      <th>4</th>\n",
       "      <td>bbq_ckn_l</td>\n",
       "      <td>bbq_ckn</td>\n",
       "      <td>L</td>\n",
       "      <td>20.75</td>\n",
       "      <td>51.0</td>\n",
       "      <td>2015-01-01</td>\n",
       "      <td>18:48:28</td>\n",
       "      <td>123.0</td>\n",
       "      <td>1.0</td>\n",
       "    </tr>\n",
       "  </tbody>\n",
       "</table>\n",
       "</div>"
      ],
      "text/plain": [
       "    pizza_id pizza_type_id size  price  order_id        date      time  \\\n",
       "0  bbq_ckn_l       bbq_ckn    L  20.75      11.0  2015-01-01  13:02:59   \n",
       "1  bbq_ckn_l       bbq_ckn    L  20.75      17.0  2015-01-01  13:53:00   \n",
       "2  bbq_ckn_l       bbq_ckn    L  20.75      27.0  2015-01-01  15:11:17   \n",
       "3  bbq_ckn_l       bbq_ckn    L  20.75      33.0  2015-01-01  15:54:08   \n",
       "4  bbq_ckn_l       bbq_ckn    L  20.75      51.0  2015-01-01  18:48:28   \n",
       "\n",
       "   order_details_id  quantity  \n",
       "0              26.0       1.0  \n",
       "1              43.0       1.0  \n",
       "2              71.0       1.0  \n",
       "3              83.0       1.0  \n",
       "4             123.0       1.0  "
      ]
     },
     "execution_count": 16,
     "metadata": {},
     "output_type": "execute_result"
    }
   ],
   "source": [
    "df6.head()"
   ]
  },
  {
   "cell_type": "code",
   "execution_count": 17,
   "id": "df470f92-6036-4019-9271-d7a83553d079",
   "metadata": {},
   "outputs": [],
   "source": [
    "#merging df6 and pizza_type table\n",
    "df7 = pd.merge(df4,df6, on=\"pizza_type_id\", how='outer')"
   ]
  },
  {
   "cell_type": "code",
   "execution_count": 18,
   "id": "b972fd0d-5630-412d-84f9-402adb88a3e8",
   "metadata": {},
   "outputs": [
    {
     "data": {
      "text/html": [
       "<div>\n",
       "<style scoped>\n",
       "    .dataframe tbody tr th:only-of-type {\n",
       "        vertical-align: middle;\n",
       "    }\n",
       "\n",
       "    .dataframe tbody tr th {\n",
       "        vertical-align: top;\n",
       "    }\n",
       "\n",
       "    .dataframe thead th {\n",
       "        text-align: right;\n",
       "    }\n",
       "</style>\n",
       "<table border=\"1\" class=\"dataframe\">\n",
       "  <thead>\n",
       "    <tr style=\"text-align: right;\">\n",
       "      <th></th>\n",
       "      <th>pizza_type_id</th>\n",
       "      <th>name</th>\n",
       "      <th>category</th>\n",
       "      <th>ingredients</th>\n",
       "      <th>pizza_id</th>\n",
       "      <th>size</th>\n",
       "      <th>price</th>\n",
       "      <th>order_id</th>\n",
       "      <th>date</th>\n",
       "      <th>time</th>\n",
       "      <th>order_details_id</th>\n",
       "      <th>quantity</th>\n",
       "    </tr>\n",
       "  </thead>\n",
       "  <tbody>\n",
       "    <tr>\n",
       "      <th>0</th>\n",
       "      <td>bbq_ckn</td>\n",
       "      <td>The Barbecue Chicken Pizza</td>\n",
       "      <td>Chicken</td>\n",
       "      <td>Barbecued Chicken, Red Peppers, Green Peppers,...</td>\n",
       "      <td>bbq_ckn_l</td>\n",
       "      <td>L</td>\n",
       "      <td>20.75</td>\n",
       "      <td>11.0</td>\n",
       "      <td>2015-01-01</td>\n",
       "      <td>13:02:59</td>\n",
       "      <td>26.0</td>\n",
       "      <td>1.0</td>\n",
       "    </tr>\n",
       "    <tr>\n",
       "      <th>1</th>\n",
       "      <td>bbq_ckn</td>\n",
       "      <td>The Barbecue Chicken Pizza</td>\n",
       "      <td>Chicken</td>\n",
       "      <td>Barbecued Chicken, Red Peppers, Green Peppers,...</td>\n",
       "      <td>bbq_ckn_l</td>\n",
       "      <td>L</td>\n",
       "      <td>20.75</td>\n",
       "      <td>17.0</td>\n",
       "      <td>2015-01-01</td>\n",
       "      <td>13:53:00</td>\n",
       "      <td>43.0</td>\n",
       "      <td>1.0</td>\n",
       "    </tr>\n",
       "    <tr>\n",
       "      <th>2</th>\n",
       "      <td>bbq_ckn</td>\n",
       "      <td>The Barbecue Chicken Pizza</td>\n",
       "      <td>Chicken</td>\n",
       "      <td>Barbecued Chicken, Red Peppers, Green Peppers,...</td>\n",
       "      <td>bbq_ckn_l</td>\n",
       "      <td>L</td>\n",
       "      <td>20.75</td>\n",
       "      <td>27.0</td>\n",
       "      <td>2015-01-01</td>\n",
       "      <td>15:11:17</td>\n",
       "      <td>71.0</td>\n",
       "      <td>1.0</td>\n",
       "    </tr>\n",
       "    <tr>\n",
       "      <th>3</th>\n",
       "      <td>bbq_ckn</td>\n",
       "      <td>The Barbecue Chicken Pizza</td>\n",
       "      <td>Chicken</td>\n",
       "      <td>Barbecued Chicken, Red Peppers, Green Peppers,...</td>\n",
       "      <td>bbq_ckn_l</td>\n",
       "      <td>L</td>\n",
       "      <td>20.75</td>\n",
       "      <td>33.0</td>\n",
       "      <td>2015-01-01</td>\n",
       "      <td>15:54:08</td>\n",
       "      <td>83.0</td>\n",
       "      <td>1.0</td>\n",
       "    </tr>\n",
       "    <tr>\n",
       "      <th>4</th>\n",
       "      <td>bbq_ckn</td>\n",
       "      <td>The Barbecue Chicken Pizza</td>\n",
       "      <td>Chicken</td>\n",
       "      <td>Barbecued Chicken, Red Peppers, Green Peppers,...</td>\n",
       "      <td>bbq_ckn_l</td>\n",
       "      <td>L</td>\n",
       "      <td>20.75</td>\n",
       "      <td>51.0</td>\n",
       "      <td>2015-01-01</td>\n",
       "      <td>18:48:28</td>\n",
       "      <td>123.0</td>\n",
       "      <td>1.0</td>\n",
       "    </tr>\n",
       "  </tbody>\n",
       "</table>\n",
       "</div>"
      ],
      "text/plain": [
       "  pizza_type_id                        name category  \\\n",
       "0       bbq_ckn  The Barbecue Chicken Pizza  Chicken   \n",
       "1       bbq_ckn  The Barbecue Chicken Pizza  Chicken   \n",
       "2       bbq_ckn  The Barbecue Chicken Pizza  Chicken   \n",
       "3       bbq_ckn  The Barbecue Chicken Pizza  Chicken   \n",
       "4       bbq_ckn  The Barbecue Chicken Pizza  Chicken   \n",
       "\n",
       "                                         ingredients   pizza_id size  price  \\\n",
       "0  Barbecued Chicken, Red Peppers, Green Peppers,...  bbq_ckn_l    L  20.75   \n",
       "1  Barbecued Chicken, Red Peppers, Green Peppers,...  bbq_ckn_l    L  20.75   \n",
       "2  Barbecued Chicken, Red Peppers, Green Peppers,...  bbq_ckn_l    L  20.75   \n",
       "3  Barbecued Chicken, Red Peppers, Green Peppers,...  bbq_ckn_l    L  20.75   \n",
       "4  Barbecued Chicken, Red Peppers, Green Peppers,...  bbq_ckn_l    L  20.75   \n",
       "\n",
       "   order_id        date      time  order_details_id  quantity  \n",
       "0      11.0  2015-01-01  13:02:59              26.0       1.0  \n",
       "1      17.0  2015-01-01  13:53:00              43.0       1.0  \n",
       "2      27.0  2015-01-01  15:11:17              71.0       1.0  \n",
       "3      33.0  2015-01-01  15:54:08              83.0       1.0  \n",
       "4      51.0  2015-01-01  18:48:28             123.0       1.0  "
      ]
     },
     "execution_count": 18,
     "metadata": {},
     "output_type": "execute_result"
    }
   ],
   "source": [
    "#Combined datasets now df7\n",
    "df7.head()"
   ]
  },
  {
   "cell_type": "code",
   "execution_count": 19,
   "id": "5f75249e-7fdb-4ff0-9ca7-485c9eeea0aa",
   "metadata": {},
   "outputs": [
    {
     "name": "stdout",
     "output_type": "stream",
     "text": [
      "<class 'pandas.core.frame.DataFrame'>\n",
      "RangeIndex: 48625 entries, 0 to 48624\n",
      "Data columns (total 12 columns):\n",
      " #   Column            Non-Null Count  Dtype  \n",
      "---  ------            --------------  -----  \n",
      " 0   pizza_type_id     48625 non-null  object \n",
      " 1   name              48625 non-null  object \n",
      " 2   category          48625 non-null  object \n",
      " 3   ingredients       48625 non-null  object \n",
      " 4   pizza_id          48625 non-null  object \n",
      " 5   size              48625 non-null  object \n",
      " 6   price             48625 non-null  float64\n",
      " 7   order_id          48620 non-null  float64\n",
      " 8   date              48620 non-null  object \n",
      " 9   time              48620 non-null  object \n",
      " 10  order_details_id  48620 non-null  float64\n",
      " 11  quantity          48620 non-null  float64\n",
      "dtypes: float64(4), object(8)\n",
      "memory usage: 4.5+ MB\n"
     ]
    }
   ],
   "source": [
    "df7.info()"
   ]
  },
  {
   "cell_type": "code",
   "execution_count": 20,
   "id": "6492c9f7-ff09-4be3-aaa8-7d7c13e705bf",
   "metadata": {},
   "outputs": [
    {
     "data": {
      "text/plain": [
       "pizza_type_id       0\n",
       "name                0\n",
       "category            0\n",
       "ingredients         0\n",
       "pizza_id            0\n",
       "size                0\n",
       "price               0\n",
       "order_id            5\n",
       "date                5\n",
       "time                5\n",
       "order_details_id    5\n",
       "quantity            5\n",
       "dtype: int64"
      ]
     },
     "execution_count": 20,
     "metadata": {},
     "output_type": "execute_result"
    }
   ],
   "source": [
    "#Checking for null values\n",
    "df7.isna().sum()"
   ]
  },
  {
   "cell_type": "code",
   "execution_count": 21,
   "id": "39404575-7584-4b5a-ab13-47fd6eb4f620",
   "metadata": {},
   "outputs": [
    {
     "data": {
      "text/plain": [
       "0"
      ]
     },
     "execution_count": 21,
     "metadata": {},
     "output_type": "execute_result"
    }
   ],
   "source": [
    "#Checking for duplicates\n",
    "df7.duplicated().sum()"
   ]
  },
  {
   "cell_type": "code",
   "execution_count": 22,
   "id": "bc8947c5-41c0-482a-84f1-e0742077f73e",
   "metadata": {},
   "outputs": [
    {
     "data": {
      "text/plain": [
       "5"
      ]
     },
     "execution_count": 22,
     "metadata": {},
     "output_type": "execute_result"
    }
   ],
   "source": [
    "#Checking for null values in the date column\n",
    "df7['date'].isnull().sum()"
   ]
  },
  {
   "cell_type": "code",
   "execution_count": 23,
   "id": "f6b3f56d-bff2-47ad-b6e1-110cf56f5ee4",
   "metadata": {},
   "outputs": [],
   "source": [
    "#dropping data with missing date\n",
    "df7 = df7.dropna(subset=[\"date\"])"
   ]
  },
  {
   "cell_type": "code",
   "execution_count": 24,
   "id": "9ae2314a-5776-49df-abb7-def613070231",
   "metadata": {},
   "outputs": [
    {
     "name": "stdout",
     "output_type": "stream",
     "text": [
      "<class 'pandas.core.frame.DataFrame'>\n",
      "Index: 48620 entries, 0 to 48624\n",
      "Data columns (total 12 columns):\n",
      " #   Column            Non-Null Count  Dtype  \n",
      "---  ------            --------------  -----  \n",
      " 0   pizza_type_id     48620 non-null  object \n",
      " 1   name              48620 non-null  object \n",
      " 2   category          48620 non-null  object \n",
      " 3   ingredients       48620 non-null  object \n",
      " 4   pizza_id          48620 non-null  object \n",
      " 5   size              48620 non-null  object \n",
      " 6   price             48620 non-null  float64\n",
      " 7   order_id          48620 non-null  float64\n",
      " 8   date              48620 non-null  object \n",
      " 9   time              48620 non-null  object \n",
      " 10  order_details_id  48620 non-null  float64\n",
      " 11  quantity          48620 non-null  float64\n",
      "dtypes: float64(4), object(8)\n",
      "memory usage: 4.8+ MB\n"
     ]
    }
   ],
   "source": [
    "#Cleaned combined dataset df7\n",
    "df7.info()"
   ]
  },
  {
   "cell_type": "code",
   "execution_count": 25,
   "id": "58b59398-5738-438e-89ff-21768159692f",
   "metadata": {},
   "outputs": [
    {
     "data": {
      "text/plain": [
       "time\n",
       "12:32:00    26\n",
       "11:59:10    24\n",
       "12:52:36    23\n",
       "12:53:29    23\n",
       "12:26:04    23\n",
       "            ..\n",
       "18:34:24     1\n",
       "15:21:54     1\n",
       "13:16:51     1\n",
       "15:58:07     1\n",
       "11:32:31     1\n",
       "Name: count, Length: 16382, dtype: int64"
      ]
     },
     "execution_count": 25,
     "metadata": {},
     "output_type": "execute_result"
    }
   ],
   "source": [
    "df7['time'].value_counts()"
   ]
  },
  {
   "cell_type": "code",
   "execution_count": 26,
   "id": "5090b822-7f13-45b7-af6e-f1250d3262bb",
   "metadata": {},
   "outputs": [],
   "source": [
    "# Convert date and time to datetime object\n",
    "df7['datetime'] = pd.to_datetime(df7['date'].astype(str) + ' ' + df7['time'].astype(str))\n",
    "df7['date'] = pd.to_datetime(df7['date'])"
   ]
  },
  {
   "cell_type": "code",
   "execution_count": 27,
   "id": "8b1db9be-3730-435c-970a-e2f3de084af8",
   "metadata": {},
   "outputs": [],
   "source": [
    "# Extract time components\n",
    "df7['hour'] = df7['datetime'].dt.hour\n",
    "df7['day_of_week'] = df7['datetime'].dt.day_name()\n",
    "df7['month'] = df7['datetime'].dt.month_name()"
   ]
  },
  {
   "cell_type": "code",
   "execution_count": 28,
   "id": "2101291c-e80a-45cb-87d4-8985ba8cae98",
   "metadata": {},
   "outputs": [
    {
     "name": "stdout",
     "output_type": "stream",
     "text": [
      "<class 'pandas.core.frame.DataFrame'>\n",
      "Index: 48620 entries, 0 to 48624\n",
      "Data columns (total 16 columns):\n",
      " #   Column            Non-Null Count  Dtype         \n",
      "---  ------            --------------  -----         \n",
      " 0   pizza_type_id     48620 non-null  object        \n",
      " 1   name              48620 non-null  object        \n",
      " 2   category          48620 non-null  object        \n",
      " 3   ingredients       48620 non-null  object        \n",
      " 4   pizza_id          48620 non-null  object        \n",
      " 5   size              48620 non-null  object        \n",
      " 6   price             48620 non-null  float64       \n",
      " 7   order_id          48620 non-null  float64       \n",
      " 8   date              48620 non-null  datetime64[ns]\n",
      " 9   time              48620 non-null  object        \n",
      " 10  order_details_id  48620 non-null  float64       \n",
      " 11  quantity          48620 non-null  float64       \n",
      " 12  datetime          48620 non-null  datetime64[ns]\n",
      " 13  hour              48620 non-null  int32         \n",
      " 14  day_of_week       48620 non-null  object        \n",
      " 15  month             48620 non-null  object        \n",
      "dtypes: datetime64[ns](2), float64(4), int32(1), object(9)\n",
      "memory usage: 6.1+ MB\n"
     ]
    }
   ],
   "source": [
    "df7.info()"
   ]
  },
  {
   "cell_type": "code",
   "execution_count": 29,
   "id": "56ebeebd-7c16-41cd-b535-c9aa3edee56b",
   "metadata": {},
   "outputs": [
    {
     "data": {
      "text/html": [
       "<div>\n",
       "<style scoped>\n",
       "    .dataframe tbody tr th:only-of-type {\n",
       "        vertical-align: middle;\n",
       "    }\n",
       "\n",
       "    .dataframe tbody tr th {\n",
       "        vertical-align: top;\n",
       "    }\n",
       "\n",
       "    .dataframe thead th {\n",
       "        text-align: right;\n",
       "    }\n",
       "</style>\n",
       "<table border=\"1\" class=\"dataframe\">\n",
       "  <thead>\n",
       "    <tr style=\"text-align: right;\">\n",
       "      <th></th>\n",
       "      <th>pizza_type_id</th>\n",
       "      <th>name</th>\n",
       "      <th>category</th>\n",
       "      <th>ingredients</th>\n",
       "      <th>pizza_id</th>\n",
       "      <th>size</th>\n",
       "      <th>price</th>\n",
       "      <th>order_id</th>\n",
       "      <th>date</th>\n",
       "      <th>time</th>\n",
       "      <th>order_details_id</th>\n",
       "      <th>quantity</th>\n",
       "      <th>datetime</th>\n",
       "      <th>hour</th>\n",
       "      <th>day_of_week</th>\n",
       "      <th>month</th>\n",
       "    </tr>\n",
       "  </thead>\n",
       "  <tbody>\n",
       "    <tr>\n",
       "      <th>0</th>\n",
       "      <td>bbq_ckn</td>\n",
       "      <td>The Barbecue Chicken Pizza</td>\n",
       "      <td>Chicken</td>\n",
       "      <td>Barbecued Chicken, Red Peppers, Green Peppers,...</td>\n",
       "      <td>bbq_ckn_l</td>\n",
       "      <td>L</td>\n",
       "      <td>20.75</td>\n",
       "      <td>11.0</td>\n",
       "      <td>2015-01-01</td>\n",
       "      <td>13:02:59</td>\n",
       "      <td>26.0</td>\n",
       "      <td>1.0</td>\n",
       "      <td>2015-01-01 13:02:59</td>\n",
       "      <td>13</td>\n",
       "      <td>Thursday</td>\n",
       "      <td>January</td>\n",
       "    </tr>\n",
       "    <tr>\n",
       "      <th>1</th>\n",
       "      <td>bbq_ckn</td>\n",
       "      <td>The Barbecue Chicken Pizza</td>\n",
       "      <td>Chicken</td>\n",
       "      <td>Barbecued Chicken, Red Peppers, Green Peppers,...</td>\n",
       "      <td>bbq_ckn_l</td>\n",
       "      <td>L</td>\n",
       "      <td>20.75</td>\n",
       "      <td>17.0</td>\n",
       "      <td>2015-01-01</td>\n",
       "      <td>13:53:00</td>\n",
       "      <td>43.0</td>\n",
       "      <td>1.0</td>\n",
       "      <td>2015-01-01 13:53:00</td>\n",
       "      <td>13</td>\n",
       "      <td>Thursday</td>\n",
       "      <td>January</td>\n",
       "    </tr>\n",
       "    <tr>\n",
       "      <th>2</th>\n",
       "      <td>bbq_ckn</td>\n",
       "      <td>The Barbecue Chicken Pizza</td>\n",
       "      <td>Chicken</td>\n",
       "      <td>Barbecued Chicken, Red Peppers, Green Peppers,...</td>\n",
       "      <td>bbq_ckn_l</td>\n",
       "      <td>L</td>\n",
       "      <td>20.75</td>\n",
       "      <td>27.0</td>\n",
       "      <td>2015-01-01</td>\n",
       "      <td>15:11:17</td>\n",
       "      <td>71.0</td>\n",
       "      <td>1.0</td>\n",
       "      <td>2015-01-01 15:11:17</td>\n",
       "      <td>15</td>\n",
       "      <td>Thursday</td>\n",
       "      <td>January</td>\n",
       "    </tr>\n",
       "    <tr>\n",
       "      <th>3</th>\n",
       "      <td>bbq_ckn</td>\n",
       "      <td>The Barbecue Chicken Pizza</td>\n",
       "      <td>Chicken</td>\n",
       "      <td>Barbecued Chicken, Red Peppers, Green Peppers,...</td>\n",
       "      <td>bbq_ckn_l</td>\n",
       "      <td>L</td>\n",
       "      <td>20.75</td>\n",
       "      <td>33.0</td>\n",
       "      <td>2015-01-01</td>\n",
       "      <td>15:54:08</td>\n",
       "      <td>83.0</td>\n",
       "      <td>1.0</td>\n",
       "      <td>2015-01-01 15:54:08</td>\n",
       "      <td>15</td>\n",
       "      <td>Thursday</td>\n",
       "      <td>January</td>\n",
       "    </tr>\n",
       "    <tr>\n",
       "      <th>4</th>\n",
       "      <td>bbq_ckn</td>\n",
       "      <td>The Barbecue Chicken Pizza</td>\n",
       "      <td>Chicken</td>\n",
       "      <td>Barbecued Chicken, Red Peppers, Green Peppers,...</td>\n",
       "      <td>bbq_ckn_l</td>\n",
       "      <td>L</td>\n",
       "      <td>20.75</td>\n",
       "      <td>51.0</td>\n",
       "      <td>2015-01-01</td>\n",
       "      <td>18:48:28</td>\n",
       "      <td>123.0</td>\n",
       "      <td>1.0</td>\n",
       "      <td>2015-01-01 18:48:28</td>\n",
       "      <td>18</td>\n",
       "      <td>Thursday</td>\n",
       "      <td>January</td>\n",
       "    </tr>\n",
       "  </tbody>\n",
       "</table>\n",
       "</div>"
      ],
      "text/plain": [
       "  pizza_type_id                        name category  \\\n",
       "0       bbq_ckn  The Barbecue Chicken Pizza  Chicken   \n",
       "1       bbq_ckn  The Barbecue Chicken Pizza  Chicken   \n",
       "2       bbq_ckn  The Barbecue Chicken Pizza  Chicken   \n",
       "3       bbq_ckn  The Barbecue Chicken Pizza  Chicken   \n",
       "4       bbq_ckn  The Barbecue Chicken Pizza  Chicken   \n",
       "\n",
       "                                         ingredients   pizza_id size  price  \\\n",
       "0  Barbecued Chicken, Red Peppers, Green Peppers,...  bbq_ckn_l    L  20.75   \n",
       "1  Barbecued Chicken, Red Peppers, Green Peppers,...  bbq_ckn_l    L  20.75   \n",
       "2  Barbecued Chicken, Red Peppers, Green Peppers,...  bbq_ckn_l    L  20.75   \n",
       "3  Barbecued Chicken, Red Peppers, Green Peppers,...  bbq_ckn_l    L  20.75   \n",
       "4  Barbecued Chicken, Red Peppers, Green Peppers,...  bbq_ckn_l    L  20.75   \n",
       "\n",
       "   order_id       date      time  order_details_id  quantity  \\\n",
       "0      11.0 2015-01-01  13:02:59              26.0       1.0   \n",
       "1      17.0 2015-01-01  13:53:00              43.0       1.0   \n",
       "2      27.0 2015-01-01  15:11:17              71.0       1.0   \n",
       "3      33.0 2015-01-01  15:54:08              83.0       1.0   \n",
       "4      51.0 2015-01-01  18:48:28             123.0       1.0   \n",
       "\n",
       "             datetime  hour day_of_week    month  \n",
       "0 2015-01-01 13:02:59    13    Thursday  January  \n",
       "1 2015-01-01 13:53:00    13    Thursday  January  \n",
       "2 2015-01-01 15:11:17    15    Thursday  January  \n",
       "3 2015-01-01 15:54:08    15    Thursday  January  \n",
       "4 2015-01-01 18:48:28    18    Thursday  January  "
      ]
     },
     "execution_count": 29,
     "metadata": {},
     "output_type": "execute_result"
    }
   ],
   "source": [
    "df7.head()"
   ]
  },
  {
   "cell_type": "code",
   "execution_count": 30,
   "id": "6b299888-38d2-4d8b-a4ba-5e58012dc908",
   "metadata": {},
   "outputs": [],
   "source": [
    "#To export combined clean data\n",
    "df7.to_csv(\"df7_output.csv\", index=False)\n"
   ]
  },
  {
   "cell_type": "code",
   "execution_count": 31,
   "id": "c9cbc6a8-4849-4718-a089-a0ab8e678904",
   "metadata": {},
   "outputs": [],
   "source": [
    "# Compute revenue per row\n",
    "df7['revenue'] = df7['price'] * df7['quantity']"
   ]
  },
  {
   "cell_type": "code",
   "execution_count": 32,
   "id": "58a58a52-a7fc-4f69-95c9-509926d1dfcd",
   "metadata": {},
   "outputs": [
    {
     "name": "stdout",
     "output_type": "stream",
     "text": [
      "Total revenue is 817860.0499999999 USD\n"
     ]
    }
   ],
   "source": [
    "total_revenue = df7['revenue'].sum()\n",
    "print(f\"Total revenue is {total_revenue} USD\")"
   ]
  },
  {
   "cell_type": "code",
   "execution_count": 33,
   "id": "766be8cd-67de-4bdb-8a70-ed95670d4227",
   "metadata": {},
   "outputs": [
    {
     "name": "stdout",
     "output_type": "stream",
     "text": [
      "The total quantity sold is 49574\n"
     ]
    }
   ],
   "source": [
    "total_quantity_sold = df7['quantity'].sum().astype(int)\n",
    "print(f\"The total quantity sold is {total_quantity_sold}\")"
   ]
  },
  {
   "cell_type": "code",
   "execution_count": 34,
   "id": "963943ab-d4f6-4995-bef9-cbc84fe71315",
   "metadata": {},
   "outputs": [
    {
     "name": "stdout",
     "output_type": "stream",
     "text": [
      "Total orders are 21350\n"
     ]
    }
   ],
   "source": [
    "total_orders=df7['order_id'].nunique()\n",
    "print(f\"Total orders are {total_orders}\")"
   ]
  },
  {
   "cell_type": "code",
   "execution_count": 35,
   "id": "b099a946-36b3-4d73-9bc2-5d60a81bea9d",
   "metadata": {},
   "outputs": [
    {
     "name": "stdout",
     "output_type": "stream",
     "text": [
      "There are 32 unique types of pizza\n"
     ]
    }
   ],
   "source": [
    "#no of unique pizza types\n",
    "unique_pizza = df7['name'].nunique()\n",
    "print(f\"There are {unique_pizza} unique types of pizza\")"
   ]
  },
  {
   "cell_type": "code",
   "execution_count": 36,
   "id": "91006eac-87af-4a85-b8bb-42f86d5ea641",
   "metadata": {},
   "outputs": [
    {
     "data": {
      "text/plain": [
       "32"
      ]
     },
     "execution_count": 36,
     "metadata": {},
     "output_type": "execute_result"
    }
   ],
   "source": [
    "#anther way of finding unique types of pizzas\n",
    "df7['pizza_type_id'].nunique()"
   ]
  },
  {
   "cell_type": "code",
   "execution_count": 37,
   "id": "f952cbc5-3bed-4a19-9145-28a8bd126c41",
   "metadata": {},
   "outputs": [
    {
     "name": "stdout",
     "output_type": "stream",
     "text": [
      "The average price of pizza is 16.494132044426163 USD.\n"
     ]
    }
   ],
   "source": [
    "#Average price of pizzas\n",
    "Average_price = df7['price'].mean()\n",
    "print(f\"The average price of pizza is {Average_price} USD.\")"
   ]
  },
  {
   "cell_type": "code",
   "execution_count": 38,
   "id": "d3acdf61-eeff-46b9-98ce-6e86521eea95",
   "metadata": {},
   "outputs": [
    {
     "data": {
      "text/html": [
       "<div>\n",
       "<style scoped>\n",
       "    .dataframe tbody tr th:only-of-type {\n",
       "        vertical-align: middle;\n",
       "    }\n",
       "\n",
       "    .dataframe tbody tr th {\n",
       "        vertical-align: top;\n",
       "    }\n",
       "\n",
       "    .dataframe thead th {\n",
       "        text-align: right;\n",
       "    }\n",
       "</style>\n",
       "<table border=\"1\" class=\"dataframe\">\n",
       "  <thead>\n",
       "    <tr style=\"text-align: right;\">\n",
       "      <th></th>\n",
       "      <th>hour</th>\n",
       "      <th>revenue</th>\n",
       "    </tr>\n",
       "  </thead>\n",
       "  <tbody>\n",
       "    <tr>\n",
       "      <th>0</th>\n",
       "      <td>12</td>\n",
       "      <td>111877.90</td>\n",
       "    </tr>\n",
       "    <tr>\n",
       "      <th>1</th>\n",
       "      <td>13</td>\n",
       "      <td>106065.70</td>\n",
       "    </tr>\n",
       "    <tr>\n",
       "      <th>2</th>\n",
       "      <td>18</td>\n",
       "      <td>89296.85</td>\n",
       "    </tr>\n",
       "    <tr>\n",
       "      <th>3</th>\n",
       "      <td>17</td>\n",
       "      <td>86237.45</td>\n",
       "    </tr>\n",
       "    <tr>\n",
       "      <th>4</th>\n",
       "      <td>19</td>\n",
       "      <td>72628.90</td>\n",
       "    </tr>\n",
       "    <tr>\n",
       "      <th>5</th>\n",
       "      <td>16</td>\n",
       "      <td>70055.40</td>\n",
       "    </tr>\n",
       "    <tr>\n",
       "      <th>6</th>\n",
       "      <td>14</td>\n",
       "      <td>59201.40</td>\n",
       "    </tr>\n",
       "    <tr>\n",
       "      <th>7</th>\n",
       "      <td>20</td>\n",
       "      <td>58215.40</td>\n",
       "    </tr>\n",
       "    <tr>\n",
       "      <th>8</th>\n",
       "      <td>15</td>\n",
       "      <td>52992.30</td>\n",
       "    </tr>\n",
       "    <tr>\n",
       "      <th>9</th>\n",
       "      <td>11</td>\n",
       "      <td>44935.80</td>\n",
       "    </tr>\n",
       "    <tr>\n",
       "      <th>10</th>\n",
       "      <td>21</td>\n",
       "      <td>42029.80</td>\n",
       "    </tr>\n",
       "    <tr>\n",
       "      <th>11</th>\n",
       "      <td>22</td>\n",
       "      <td>22815.15</td>\n",
       "    </tr>\n",
       "    <tr>\n",
       "      <th>12</th>\n",
       "      <td>23</td>\n",
       "      <td>1121.35</td>\n",
       "    </tr>\n",
       "    <tr>\n",
       "      <th>13</th>\n",
       "      <td>10</td>\n",
       "      <td>303.65</td>\n",
       "    </tr>\n",
       "    <tr>\n",
       "      <th>14</th>\n",
       "      <td>9</td>\n",
       "      <td>83.00</td>\n",
       "    </tr>\n",
       "  </tbody>\n",
       "</table>\n",
       "</div>"
      ],
      "text/plain": [
       "    hour    revenue\n",
       "0     12  111877.90\n",
       "1     13  106065.70\n",
       "2     18   89296.85\n",
       "3     17   86237.45\n",
       "4     19   72628.90\n",
       "5     16   70055.40\n",
       "6     14   59201.40\n",
       "7     20   58215.40\n",
       "8     15   52992.30\n",
       "9     11   44935.80\n",
       "10    21   42029.80\n",
       "11    22   22815.15\n",
       "12    23    1121.35\n",
       "13    10     303.65\n",
       "14     9      83.00"
      ]
     },
     "execution_count": 38,
     "metadata": {},
     "output_type": "execute_result"
    }
   ],
   "source": [
    "#peak hours of sales\n",
    "peak_hours = df7.groupby('hour')['revenue'].sum().sort_values(ascending=False).reset_index()\n",
    "peak_hours"
   ]
  },
  {
   "cell_type": "markdown",
   "id": "2d7e2fd5-c624-475b-9599-8ac7e886b903",
   "metadata": {},
   "source": [
    "#### The peak hour of sales is = 12 noon"
   ]
  },
  {
   "cell_type": "code",
   "execution_count": 39,
   "id": "8c77bd6e-97f8-4a91-a7b2-e435725e8270",
   "metadata": {},
   "outputs": [
    {
     "data": {
      "image/png": "[encoded data removed]",
      "text/plain": [
       "<Figure size 1000x600 with 1 Axes>"
      ]
     },
     "metadata": {},
     "output_type": "display_data"
    }
   ],
   "source": [
    "plt.figure(figsize=(10, 6))\n",
    "sns.barplot(data=peak_hours, x='hour', y='revenue', palette=\"rocket\")\n",
    "plt.title(\"Peak Sales Hours (Revenue)\", fontsize=16)\n",
    "plt.xlabel(\"Hour of Day\")\n",
    "plt.ylabel(\"Revenue ($)\")\n",
    "plt.show()\n"
   ]
  },
  {
   "cell_type": "code",
   "execution_count": 40,
   "id": "5d41478b-467a-4c4b-beaa-0eeefd55ee13",
   "metadata": {},
   "outputs": [
    {
     "data": {
      "text/html": [
       "<div>\n",
       "<style scoped>\n",
       "    .dataframe tbody tr th:only-of-type {\n",
       "        vertical-align: middle;\n",
       "    }\n",
       "\n",
       "    .dataframe tbody tr th {\n",
       "        vertical-align: top;\n",
       "    }\n",
       "\n",
       "    .dataframe thead th {\n",
       "        text-align: right;\n",
       "    }\n",
       "</style>\n",
       "<table border=\"1\" class=\"dataframe\">\n",
       "  <thead>\n",
       "    <tr style=\"text-align: right;\">\n",
       "      <th></th>\n",
       "      <th>day_of_week</th>\n",
       "      <th>revenue</th>\n",
       "    </tr>\n",
       "  </thead>\n",
       "  <tbody>\n",
       "    <tr>\n",
       "      <th>0</th>\n",
       "      <td>Friday</td>\n",
       "      <td>136073.90</td>\n",
       "    </tr>\n",
       "    <tr>\n",
       "      <th>1</th>\n",
       "      <td>Thursday</td>\n",
       "      <td>123528.50</td>\n",
       "    </tr>\n",
       "    <tr>\n",
       "      <th>2</th>\n",
       "      <td>Saturday</td>\n",
       "      <td>123182.40</td>\n",
       "    </tr>\n",
       "    <tr>\n",
       "      <th>3</th>\n",
       "      <td>Wednesday</td>\n",
       "      <td>114408.40</td>\n",
       "    </tr>\n",
       "    <tr>\n",
       "      <th>4</th>\n",
       "      <td>Tuesday</td>\n",
       "      <td>114133.80</td>\n",
       "    </tr>\n",
       "    <tr>\n",
       "      <th>5</th>\n",
       "      <td>Monday</td>\n",
       "      <td>107329.55</td>\n",
       "    </tr>\n",
       "    <tr>\n",
       "      <th>6</th>\n",
       "      <td>Sunday</td>\n",
       "      <td>99203.50</td>\n",
       "    </tr>\n",
       "  </tbody>\n",
       "</table>\n",
       "</div>"
      ],
      "text/plain": [
       "  day_of_week    revenue\n",
       "0      Friday  136073.90\n",
       "1    Thursday  123528.50\n",
       "2    Saturday  123182.40\n",
       "3   Wednesday  114408.40\n",
       "4     Tuesday  114133.80\n",
       "5      Monday  107329.55\n",
       "6      Sunday   99203.50"
      ]
     },
     "execution_count": 40,
     "metadata": {},
     "output_type": "execute_result"
    }
   ],
   "source": [
    "#sales by each day of the week\n",
    "sales_by_day = df7.groupby('day_of_week')['revenue'].sum().sort_values(ascending=False).reset_index()\n",
    "sales_by_day\n"
   ]
  },
  {
   "cell_type": "markdown",
   "id": "01eb9583-8dc6-4d74-b32f-7cc543c00d58",
   "metadata": {},
   "source": [
    "#### The highest sales is recorded on Fridays"
   ]
  },
  {
   "cell_type": "code",
   "execution_count": 41,
   "id": "168f5949-e7f6-488d-b861-8f70df1eb76c",
   "metadata": {},
   "outputs": [
    {
     "data": {
      "image/png": "[encoded data removed]",
      "text/plain": [
       "<Figure size 1000x600 with 1 Axes>"
      ]
     },
     "metadata": {},
     "output_type": "display_data"
    }
   ],
   "source": [
    "sales_by_day = df7.groupby('day_of_week')['revenue'].sum()\n",
    "ordered_days = ['Monday', 'Tuesday', 'Wednesday', 'Thursday', 'Friday', 'Saturday', 'Sunday']\n",
    "\n",
    "plt.figure(figsize=(10, 6))\n",
    "sns.lineplot(x=ordered_days, y=sales_by_day.loc[ordered_days].values, palette=\"crest\")\n",
    "plt.title(\"Revenue by Day of the Week\", fontsize=16)\n",
    "plt.xlabel(\"Day\")\n",
    "plt.ylabel(\"Revenue ($)\")\n",
    "plt.tight_layout()\n",
    "plt.show()\n"
   ]
  },
  {
   "cell_type": "code",
   "execution_count": 42,
   "id": "e192128a-d020-4b7f-9718-217bef2419fa",
   "metadata": {},
   "outputs": [
    {
     "data": {
      "text/plain": [
       "name\n",
       "The Classic Deluxe Pizza      2453.0\n",
       "The Barbecue Chicken Pizza    2432.0\n",
       "The Hawaiian Pizza            2422.0\n",
       "The Pepperoni Pizza           2418.0\n",
       "The Thai Chicken Pizza        2371.0\n",
       "Name: quantity, dtype: float64"
      ]
     },
     "execution_count": 42,
     "metadata": {},
     "output_type": "execute_result"
    }
   ],
   "source": [
    "#top five selling pizzas\n",
    "top_5_pizzas = df7.groupby('name')['quantity'].sum().sort_values(ascending=False).head(5)\n",
    "top_5_pizzas"
   ]
  },
  {
   "cell_type": "markdown",
   "id": "8ab6852f-f605-4bff-8420-58efde7ffc45",
   "metadata": {},
   "source": [
    "### Classic deluxe, Barbecue Chicken, Hawaiian, Pepperoni and Thai Chiken are the top 5 bestsellin Pizza. Classic deluxe being the best"
   ]
  },
  {
   "cell_type": "code",
   "execution_count": 43,
   "id": "1ab484cc-50c3-4a1c-b766-c937ae5be427",
   "metadata": {},
   "outputs": [
    {
     "data": {
      "image/png": "[encoded data removed]",
      "text/plain": [
       "<Figure size 1000x600 with 1 Axes>"
      ]
     },
     "metadata": {},
     "output_type": "display_data"
    }
   ],
   "source": [
    "plt.figure(figsize=(10, 6))\n",
    "sns.barplot(x=top_5_pizzas.values, y=top_5_pizzas.index, palette=\"mako\")\n",
    "plt.title(\"Top 5 Bestselling Pizzas\", fontsize=16)\n",
    "plt.xlabel(\"Quantity Sold\")\n",
    "plt.ylabel(\"Pizza Name\")\n",
    "plt.tight_layout()\n",
    "plt.show()"
   ]
  },
  {
   "cell_type": "code",
   "execution_count": 44,
   "id": "1b9b59e0-0790-4f55-8f91-a8ded221a64a",
   "metadata": {},
   "outputs": [
    {
     "data": {
      "text/html": [
       "<div>\n",
       "<style scoped>\n",
       "    .dataframe tbody tr th:only-of-type {\n",
       "        vertical-align: middle;\n",
       "    }\n",
       "\n",
       "    .dataframe tbody tr th {\n",
       "        vertical-align: top;\n",
       "    }\n",
       "\n",
       "    .dataframe thead th {\n",
       "        text-align: right;\n",
       "    }\n",
       "</style>\n",
       "<table border=\"1\" class=\"dataframe\">\n",
       "  <thead>\n",
       "    <tr style=\"text-align: right;\">\n",
       "      <th></th>\n",
       "      <th>month</th>\n",
       "      <th>revenue</th>\n",
       "    </tr>\n",
       "  </thead>\n",
       "  <tbody>\n",
       "    <tr>\n",
       "      <th>0</th>\n",
       "      <td>July</td>\n",
       "      <td>72557.90</td>\n",
       "    </tr>\n",
       "    <tr>\n",
       "      <th>1</th>\n",
       "      <td>May</td>\n",
       "      <td>71402.75</td>\n",
       "    </tr>\n",
       "    <tr>\n",
       "      <th>2</th>\n",
       "      <td>March</td>\n",
       "      <td>70397.10</td>\n",
       "    </tr>\n",
       "    <tr>\n",
       "      <th>3</th>\n",
       "      <td>November</td>\n",
       "      <td>70395.35</td>\n",
       "    </tr>\n",
       "    <tr>\n",
       "      <th>4</th>\n",
       "      <td>January</td>\n",
       "      <td>69793.30</td>\n",
       "    </tr>\n",
       "    <tr>\n",
       "      <th>5</th>\n",
       "      <td>April</td>\n",
       "      <td>68736.80</td>\n",
       "    </tr>\n",
       "    <tr>\n",
       "      <th>6</th>\n",
       "      <td>August</td>\n",
       "      <td>68278.25</td>\n",
       "    </tr>\n",
       "    <tr>\n",
       "      <th>7</th>\n",
       "      <td>June</td>\n",
       "      <td>68230.20</td>\n",
       "    </tr>\n",
       "    <tr>\n",
       "      <th>8</th>\n",
       "      <td>February</td>\n",
       "      <td>65159.60</td>\n",
       "    </tr>\n",
       "    <tr>\n",
       "      <th>9</th>\n",
       "      <td>December</td>\n",
       "      <td>64701.15</td>\n",
       "    </tr>\n",
       "    <tr>\n",
       "      <th>10</th>\n",
       "      <td>September</td>\n",
       "      <td>64180.05</td>\n",
       "    </tr>\n",
       "    <tr>\n",
       "      <th>11</th>\n",
       "      <td>October</td>\n",
       "      <td>64027.60</td>\n",
       "    </tr>\n",
       "  </tbody>\n",
       "</table>\n",
       "</div>"
      ],
      "text/plain": [
       "        month   revenue\n",
       "0        July  72557.90\n",
       "1         May  71402.75\n",
       "2       March  70397.10\n",
       "3    November  70395.35\n",
       "4     January  69793.30\n",
       "5       April  68736.80\n",
       "6      August  68278.25\n",
       "7        June  68230.20\n",
       "8    February  65159.60\n",
       "9    December  64701.15\n",
       "10  September  64180.05\n",
       "11    October  64027.60"
      ]
     },
     "execution_count": 44,
     "metadata": {},
     "output_type": "execute_result"
    }
   ],
   "source": [
    "#monthly sales trend\n",
    "monthly_sales = df7.groupby('month')['revenue'].sum().sort_values(ascending=False).reset_index()\n",
    "monthly_sales\n"
   ]
  },
  {
   "cell_type": "markdown",
   "id": "9c6293d1-c55f-4939-9255-e6c59e6defe6",
   "metadata": {},
   "source": [
    "#### The highest revenue generating month is July ($72,557) whilst October is the least ($64,027.60)"
   ]
  },
  {
   "cell_type": "markdown",
   "id": "e506b6ee-2c09-4c83-8c97-d56e64602204",
   "metadata": {},
   "source": [
    "plt.figure(figsize=(10, 6))\n",
    "sns.lineplot(data=monthly_sales, x='month', y='revenue', marker='o', color='navy')\n",
    "plt.title(\"Monthly Revenue (Ordered January to December)\", fontsize=16)\n",
    "plt.xlabel(\"Month\")\n",
    "plt.ylabel(\"Revenue\")\n",
    "plt.xticks(rotation=45)\n",
    "plt.tight_layout()\n",
    "plt.show()"
   ]
  },
  {
   "cell_type": "code",
   "execution_count": 45,
   "id": "6e626397-f464-4663-bb6b-b6e777a29932",
   "metadata": {},
   "outputs": [
    {
     "data": {
      "image/png": "[encoded data removed]",
      "text/plain": [
       "<Figure size 1000x600 with 1 Axes>"
      ]
     },
     "metadata": {},
     "output_type": "display_data"
    }
   ],
   "source": [
    "# Define proper month order\n",
    "month_order = ['January', 'February', 'March', 'April', 'May', 'June',\n",
    "               'July', 'August', 'September', 'October', 'November', 'December']\n",
    "\n",
    "\n",
    "# Group revenue by month and sort\n",
    "monthly_sales = df7.groupby('month')[['revenue']].sum()\n",
    "monthly_sales['month'] = monthly_sales.index\n",
    "monthly_sales = monthly_sales.set_index('month').reindex(month_order).reset_index()\n",
    "\n",
    "\n",
    "plt.figure(figsize=(10, 6))\n",
    "sns.lineplot(data=monthly_sales, x='month', y='revenue', marker='o', color='navy')\n",
    "plt.title(\"Monthly Revenue Trend\" , fontsize=16)\n",
    "plt.xlabel(\"Month\")\n",
    "plt.ylabel(\"Revenue\")\n",
    "plt.xticks(rotation=45)\n",
    "plt.tight_layout()\n",
    "plt.show()"
   ]
  },
  {
   "cell_type": "code",
   "execution_count": 46,
   "id": "d380f63e-3de9-427d-b236-c64f04f4421c",
   "metadata": {},
   "outputs": [
    {
     "data": {
      "text/html": [
       "<div>\n",
       "<style scoped>\n",
       "    .dataframe tbody tr th:only-of-type {\n",
       "        vertical-align: middle;\n",
       "    }\n",
       "\n",
       "    .dataframe tbody tr th {\n",
       "        vertical-align: top;\n",
       "    }\n",
       "\n",
       "    .dataframe thead th {\n",
       "        text-align: right;\n",
       "    }\n",
       "</style>\n",
       "<table border=\"1\" class=\"dataframe\">\n",
       "  <thead>\n",
       "    <tr style=\"text-align: right;\">\n",
       "      <th></th>\n",
       "      <th>pizza_type_id</th>\n",
       "      <th>revenue</th>\n",
       "    </tr>\n",
       "  </thead>\n",
       "  <tbody>\n",
       "    <tr>\n",
       "      <th>0</th>\n",
       "      <td>brie_carre</td>\n",
       "      <td>11588.50</td>\n",
       "    </tr>\n",
       "    <tr>\n",
       "      <th>1</th>\n",
       "      <td>green_garden</td>\n",
       "      <td>13955.75</td>\n",
       "    </tr>\n",
       "    <tr>\n",
       "      <th>2</th>\n",
       "      <td>spinach_supr</td>\n",
       "      <td>15277.75</td>\n",
       "    </tr>\n",
       "    <tr>\n",
       "      <th>3</th>\n",
       "      <td>mediterraneo</td>\n",
       "      <td>15360.50</td>\n",
       "    </tr>\n",
       "    <tr>\n",
       "      <th>4</th>\n",
       "      <td>spin_pesto</td>\n",
       "      <td>15596.00</td>\n",
       "    </tr>\n",
       "  </tbody>\n",
       "</table>\n",
       "</div>"
      ],
      "text/plain": [
       "  pizza_type_id   revenue\n",
       "0    brie_carre  11588.50\n",
       "1  green_garden  13955.75\n",
       "2  spinach_supr  15277.75\n",
       "3  mediterraneo  15360.50\n",
       "4    spin_pesto  15596.00"
      ]
     },
     "execution_count": 46,
     "metadata": {},
     "output_type": "execute_result"
    }
   ],
   "source": [
    "# Underperforming pizzas\n",
    "pizza_sales = df7.groupby('pizza_type_id')['revenue'].sum().sort_values().reset_index()\n",
    "underperforming_pizzas = pizza_sales.head(5)\n",
    "underperforming_pizzas"
   ]
  },
  {
   "cell_type": "markdown",
   "id": "4f1cab13-c55f-4feb-b37a-ff9472465195",
   "metadata": {},
   "source": [
    "#### The least underperforming pizza interms of revenue and quantity sold is brie_carr ($11,588 and 490 respectively)"
   ]
  },
  {
   "cell_type": "code",
   "execution_count": 47,
   "id": "f81b3368-517b-42cc-a04b-01d59aa81f9c",
   "metadata": {},
   "outputs": [
    {
     "data": {
      "text/html": [
       "<div>\n",
       "<style scoped>\n",
       "    .dataframe tbody tr th:only-of-type {\n",
       "        vertical-align: middle;\n",
       "    }\n",
       "\n",
       "    .dataframe tbody tr th {\n",
       "        vertical-align: top;\n",
       "    }\n",
       "\n",
       "    .dataframe thead th {\n",
       "        text-align: right;\n",
       "    }\n",
       "</style>\n",
       "<table border=\"1\" class=\"dataframe\">\n",
       "  <thead>\n",
       "    <tr style=\"text-align: right;\">\n",
       "      <th></th>\n",
       "      <th>pizza_type_id</th>\n",
       "      <th>quantity</th>\n",
       "      <th>revenue</th>\n",
       "    </tr>\n",
       "  </thead>\n",
       "  <tbody>\n",
       "    <tr>\n",
       "      <th>0</th>\n",
       "      <td>brie_carre</td>\n",
       "      <td>490.0</td>\n",
       "      <td>11588.50</td>\n",
       "    </tr>\n",
       "    <tr>\n",
       "      <th>1</th>\n",
       "      <td>green_garden</td>\n",
       "      <td>997.0</td>\n",
       "      <td>13955.75</td>\n",
       "    </tr>\n",
       "    <tr>\n",
       "      <th>2</th>\n",
       "      <td>spinach_supr</td>\n",
       "      <td>950.0</td>\n",
       "      <td>15277.75</td>\n",
       "    </tr>\n",
       "    <tr>\n",
       "      <th>3</th>\n",
       "      <td>mediterraneo</td>\n",
       "      <td>934.0</td>\n",
       "      <td>15360.50</td>\n",
       "    </tr>\n",
       "    <tr>\n",
       "      <th>4</th>\n",
       "      <td>spin_pesto</td>\n",
       "      <td>970.0</td>\n",
       "      <td>15596.00</td>\n",
       "    </tr>\n",
       "  </tbody>\n",
       "</table>\n",
       "</div>"
      ],
      "text/plain": [
       "  pizza_type_id  quantity   revenue\n",
       "0    brie_carre     490.0  11588.50\n",
       "1  green_garden     997.0  13955.75\n",
       "2  spinach_supr     950.0  15277.75\n",
       "3  mediterraneo     934.0  15360.50\n",
       "4    spin_pesto     970.0  15596.00"
      ]
     },
     "execution_count": 47,
     "metadata": {},
     "output_type": "execute_result"
    }
   ],
   "source": [
    "pizza_sales = df7.groupby('pizza_type_id')[['quantity','revenue']].sum().sort_values(by='revenue').reset_index()\n",
    "underperforming_pizzas = pizza_sales.head(5)\n",
    "underperforming_pizzas"
   ]
  },
  {
   "cell_type": "code",
   "execution_count": 48,
   "id": "f340133f-e2c7-4d06-bbcd-18f7e0fceeb4",
   "metadata": {},
   "outputs": [
    {
     "data": {
      "image/png": "[encoded data removed]",
      "text/plain": [
       "<Figure size 1000x600 with 1 Axes>"
      ]
     },
     "metadata": {},
     "output_type": "display_data"
    }
   ],
   "source": [
    "plt.figure(figsize=(10,6))\n",
    "sns.barplot(data=underperforming_pizzas, x='pizza_type_id', y='quantity', hue='revenue')\n",
    "plt.title(\"Bottom 5 Least Selling Pizzas\", fontsize=16)\n",
    "plt.xlabel(\"Pizza Type ID\")\n",
    "plt.ylabel(\"Quantity Sold\")\n",
    "plt.tight_layout()\n",
    "plt.show()\n"
   ]
  },
  {
   "cell_type": "code",
   "execution_count": 49,
   "id": "3f22efaf-27ae-4aeb-8014-5c0f5cfac373",
   "metadata": {},
   "outputs": [
    {
     "data": {
      "text/plain": [
       "category\n",
       "Classic    220053.10\n",
       "Supreme    208197.00\n",
       "Chicken    195919.50\n",
       "Veggie     193690.45\n",
       "Name: revenue, dtype: float64"
      ]
     },
     "execution_count": 49,
     "metadata": {},
     "output_type": "execute_result"
    }
   ],
   "source": [
    "#Revenue by Pizza Category\n",
    "category_revenue = df7.groupby('category')['revenue'].sum().sort_values(ascending=False)\n",
    "category_revenue"
   ]
  },
  {
   "cell_type": "markdown",
   "id": "cec6241d-3bea-4a3a-84cd-3627c4b5b82b",
   "metadata": {},
   "source": [
    "#### There are 5 different categories of pizza, Classic pizza generated the highest revenue ($220.053) while Veggie pizza generated the least ($193,690)"
   ]
  },
  {
   "cell_type": "code",
   "execution_count": 50,
   "id": "aed573ad-ad4e-4586-9a03-bd9bbe804f3f",
   "metadata": {},
   "outputs": [
    {
     "data": {
      "image/png": "[encoded data removed]",
      "text/plain": [
       "<Figure size 800x800 with 1 Axes>"
      ]
     },
     "metadata": {},
     "output_type": "display_data"
    }
   ],
   "source": [
    "plt.figure(figsize=(8, 8))\n",
    "plt.pie(category_revenue.values, labels=category_revenue.index, \n",
    "        autopct='%1.1f%%',colors=plt.cm.Paired.colors)\n",
    "plt.title(\"Revenue by Pizza Category\", fontsize=16)\n",
    "plt.tight_layout()\n",
    "plt.show()"
   ]
  },
  {
   "cell_type": "code",
   "execution_count": 51,
   "id": "3753baee-0cd8-405c-bec4-2e80a16f6638",
   "metadata": {},
   "outputs": [
    {
     "data": {
      "text/plain": [
       "size\n",
       "L      375318.70\n",
       "M      249382.25\n",
       "S      178076.50\n",
       "XL      14076.00\n",
       "XXL      1006.60\n",
       "Name: revenue, dtype: float64"
      ]
     },
     "execution_count": 51,
     "metadata": {},
     "output_type": "execute_result"
    }
   ],
   "source": [
    "#Revenue by pizza size\n",
    "size_revenue = df7.groupby('size')['revenue'].sum().sort_values(ascending=False)\n",
    "size_revenue\n"
   ]
  },
  {
   "cell_type": "markdown",
   "id": "b304789b-d159-472c-ae78-50375b87af75",
   "metadata": {},
   "source": [
    "#### There are 5 different sizes of pizza. Large pizza geenrated almost half of the total revenue (45.9%), while XXL generate only 0.1% of the total revenue."
   ]
  },
  {
   "cell_type": "code",
   "execution_count": 52,
   "id": "77ba6631-425f-455b-b048-0154e0fb965a",
   "metadata": {},
   "outputs": [
    {
     "data": {
      "image/png": "[encoded data removed]",
      "text/plain": [
       "<Figure size 800x800 with 1 Axes>"
      ]
     },
     "metadata": {},
     "output_type": "display_data"
    }
   ],
   "source": [
    "orange_shades = [\n",
    "    \"#fee6ce\",  # light peach\n",
    "    \"#fdae6b\",  # orange\n",
    "    \"#fd8d3c\",  # tangerine\n",
    "    \"#e6550d\",  # pumpkin\n",
    "    \"#a63603\"   # burnt orange\n",
    "]\n",
    "\n",
    "plt.figure(figsize=(8, 8))\n",
    "plt.pie(size_revenue.values, labels=size_revenue.index, \n",
    "        autopct='%1.1f%%',colors = orange_shades)\n",
    "plt.title(\"Revenue by Pizza Size\", fontsize=16)\n",
    "plt.tight_layout()\n",
    "plt.show()"
   ]
  }
 ],
 "metadata": {
  "kernelspec": {
   "display_name": "Python 3 (ipykernel)",
   "language": "python",
   "name": "python3"
  },
  "language_info": {
   "codemirror_mode": {
    "name": "ipython",
    "version": 3
   },
   "file_extension": ".py",
   "mimetype": "text/x-python",
   "name": "python",
   "nbconvert_exporter": "python",
   "pygments_lexer": "ipython3",
   "version": "3.12.7"
  }
 },
 "nbformat": 4,
 "nbformat_minor": 5
}
